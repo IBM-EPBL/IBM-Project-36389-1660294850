{
  "nbformat": 4,
  "nbformat_minor": 0,
  "metadata": {
    "colab": {
      "provenance": []
    },
    "kernelspec": {
      "name": "python3",
      "display_name": "Python 3"
    },
    "language_info": {
      "name": "python"
    }
  },
  "cells": [
    {
      "cell_type": "markdown",
      "source": [
        "**Importing The Required Libraries**\n",
        "\n",
        "Lets first import the libraries"
      ],
      "metadata": {
        "id": "TyuVS0tgkJEY"
      }
    },
    {
      "cell_type": "code",
      "execution_count": 1,
      "metadata": {
        "id": "o7TdmTj4jw7-"
      },
      "outputs": [],
      "source": [
        "import cv2\n",
        "import numpy as np\n",
        "from keras.datasets import mnist\n",
        "from keras.layers import Dense, Flatten, MaxPooling2D, Dropout\n",
        "from keras.layers.convolutional import Conv2D\n",
        "from keras.models import Sequential\n",
        "from keras.utils import to_categorical\n",
        "import matplotlib.pyplot as plt\n"
      ]
    },
    {
      "cell_type": "markdown",
      "source": [
        "**Loading The Data**\n",
        "\n",
        "The dataset for this model is imported from the Keras module"
      ],
      "metadata": {
        "id": "5RKpsFDGkDB8"
      }
    },
    {
      "cell_type": "code",
      "source": [
        "(X_train, y_train), (X_test, y_test) = mnist.load_data()\n"
      ],
      "metadata": {
        "colab": {
          "base_uri": "https://localhost:8080/"
        },
        "id": "ouUBsb-kkXMA",
        "outputId": "4e483755-9b46-4506-b5d1-31b83c9c6c55"
      },
      "execution_count": 2,
      "outputs": [
        {
          "output_type": "stream",
          "name": "stdout",
          "text": [
            "Downloading data from https://storage.googleapis.com/tensorflow/tf-keras-datasets/mnist.npz\n",
            "11490434/11490434 [==============================] - 0s 0us/step\n"
          ]
        }
      ]
    },
    {
      "cell_type": "code",
      "source": [
        "print (\"Shape of X_train: {}\".format(X_train.shape))\n",
        "print (\"Shape of y_train: {}\".format(y_train.shape))\n",
        "print (\"Shape of X_test: {}\".format(X_test.shape))\n",
        "print (\"Shape of y_test: {}\".format(y_test.shape))"
      ],
      "metadata": {
        "colab": {
          "base_uri": "https://localhost:8080/"
        },
        "id": "ZZES8FaBkioq",
        "outputId": "d7c90515-328e-4bc4-b632-e481a79eabc4"
      },
      "execution_count": 3,
      "outputs": [
        {
          "output_type": "stream",
          "name": "stdout",
          "text": [
            "Shape of X_train: (60000, 28, 28)\n",
            "Shape of y_train: (60000,)\n",
            "Shape of X_test: (10000, 28, 28)\n",
            "Shape of y_test: (10000,)\n"
          ]
        }
      ]
    },
    {
      "cell_type": "markdown",
      "source": [
        "**Analyzing The Data**\n",
        "\n",
        "Let's see the  Information of an image lying inside the x_train variable"
      ],
      "metadata": {
        "id": "2EvilGl5kkfP"
      }
    },
    {
      "cell_type": "markdown",
      "source": [
        "![image.png](data:image/png;base64,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)"
      ],
      "metadata": {
        "id": "j1ljZb6Qk1YL"
      }
    },
    {
      "cell_type": "code",
      "source": [
        "y_train[0]"
      ],
      "metadata": {
        "colab": {
          "base_uri": "https://localhost:8080/"
        },
        "id": "EoaAkVYUlDao",
        "outputId": "1f62e92d-14b5-483f-ebf9-982e404a97e7"
      },
      "execution_count": 4,
      "outputs": [
        {
          "output_type": "execute_result",
          "data": {
            "text/plain": [
              "5"
            ]
          },
          "metadata": {},
          "execution_count": 4
        }
      ]
    },
    {
      "cell_type": "markdown",
      "source": [
        "**Reshaping The Data**\n",
        "\n",
        "\n",
        "As we are using Deep learning neural network, the input for this network to get trained on should be of higher dimensional. Our dataset is having three-dimensional images so we have to reshape them too higher dimensions"
      ],
      "metadata": {
        "id": "PuFi3ejWlR96"
      }
    },
    {
      "cell_type": "code",
      "source": [
        "X_train = X_train.reshape(60000, 28, 28, 1)\n",
        "X_test = X_test.reshape(10000, 28, 28, 1)"
      ],
      "metadata": {
        "id": "FXh-5xVxlSqy"
      },
      "execution_count": 5,
      "outputs": []
    },
    {
      "cell_type": "markdown",
      "source": [
        "**Applying One Hot Encoding**\n",
        "\n",
        "If you see our y_train variable contains Labels representing the images containing in x_train. AS these are numbers usually they can be considered as numerical or continuous data, but with respect to this project these Numbers are representing a set of class so these are to be represented as categorical data, and we need to binaries these categorical data  that's why we are  applying One Hot encoding for y_train set\n"
      ],
      "metadata": {
        "id": "IBZZMtSQleLY"
      }
    },
    {
      "cell_type": "code",
      "source": [
        "### Lets one hot encode labels\n",
        "y_train = to_categorical(y_train)\n",
        "y_test = to_categorical(y_test)"
      ],
      "metadata": {
        "id": "jfjXhbLBlg8P"
      },
      "execution_count": 6,
      "outputs": []
    },
    {
      "cell_type": "code",
      "source": [
        "y_train[0]"
      ],
      "metadata": {
        "id": "XSj6GBm2ltB1",
        "outputId": "754a7f6e-6c98-480f-fbe8-59c47d220c9a",
        "colab": {
          "base_uri": "https://localhost:8080/"
        }
      },
      "execution_count": 7,
      "outputs": [
        {
          "output_type": "execute_result",
          "data": {
            "text/plain": [
              "array([0., 0., 0., 0., 0., 1., 0., 0., 0., 0.], dtype=float32)"
            ]
          },
          "metadata": {},
          "execution_count": 7
        }
      ]
    }
  ]
}